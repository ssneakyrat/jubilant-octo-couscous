{
 "cells": [
  {
   "cell_type": "code",
   "execution_count": 6,
   "metadata": {},
   "outputs": [
    {
     "name": "stdout",
     "output_type": "stream",
     "text": [
      "CUDA is available!\n"
     ]
    }
   ],
   "source": [
    "import torch\n",
    "\n",
    "if torch.cuda.is_available():\n",
    "    print(\"CUDA is available!\")\n",
    "    device = torch.device(\"cuda\")  # Use GPU\n",
    "else:\n",
    "    print(\"CUDA is not available. Using CPU.\")\n",
    "    device = torch.device(\"cpu\")  # Use CPU"
   ]
  },
  {
   "cell_type": "code",
   "execution_count": 12,
   "metadata": {},
   "outputs": [
    {
     "name": "stdout",
     "output_type": "stream",
     "text": [
      "2025-03-24 14:23:37,815 - __main__ - INFO - Initializing core model..."
     ]
    },
    {
     "name": "stderr",
     "output_type": "stream",
     "text": [
      "Using bfloat16 Automatic Mixed Precision (AMP)\n",
      "GPU available: True (cuda), used: True\n",
      "TPU available: False, using: 0 TPU cores\n",
      "HPU available: False, using: 0 HPUs\n",
      "You are using a CUDA device ('NVIDIA GeForce RTX 3060') that has Tensor Cores. To properly utilize them, you should set `torch.set_float32_matmul_precision('medium' | 'high')` which will trade-off precision for performance. For more details, read https://pytorch.org/docs/stable/generated/torch.set_float32_matmul_precision.html#torch.set_float32_matmul_precision\n",
      "d:\\ML\\pinokio\\bin\\miniconda\\envs\\MLLM\\lib\\site-packages\\huggingface_hub\\file_download.py:142: UserWarning: `huggingface_hub` cache-system uses symlinks by default to efficiently store duplicated files but your machine does not support them in C:\\Users\\smoki\\.cache\\huggingface\\hub\\models--gpt2. Caching files will still work but in a degraded version that might require more space on your disk. This warning can be disabled by setting the `HF_HUB_DISABLE_SYMLINKS_WARNING` environment variable. For more details, see https://huggingface.co/docs/huggingface_hub/how-to-cache#limitations.\n",
      "To support symlinks on Windows, you either need to activate Developer Mode or to run Python as an administrator. In order to activate developer mode, see this article: https://docs.microsoft.com/en-us/windows/apps/get-started/enable-your-device-for-development\n",
      "  warnings.warn(message)\n",
      "LOCAL_RANK: 0 - CUDA_VISIBLE_DEVICES: [0]\n",
      "\n",
      "  | Name  | Type            | Params | Mode \n",
      "--------------------------------------------------\n",
      "0 | model | CoreLMHeadModel | 125 M  | train\n",
      "--------------------------------------------------\n",
      "125 M     Trainable params\n",
      "0         Non-trainable params\n",
      "125 M     Total params\n",
      "500.905   Total estimated model params size (MB)\n",
      "162       Modules in train mode\n",
      "0         Modules in eval mode\n",
      "d:\\ML\\pinokio\\bin\\miniconda\\envs\\MLLM\\lib\\site-packages\\pytorch_lightning\\loggers\\tensorboard.py:195: Could not log computational graph to TensorBoard: The `model.example_input_array` attribute is not set or `input_array` was not given.\n",
      "d:\\ML\\pinokio\\bin\\miniconda\\envs\\MLLM\\lib\\site-packages\\pytorch_lightning\\trainer\\connectors\\data_connector.py:420: Consider setting `persistent_workers=True` in 'val_dataloader' to speed up the dataloader worker initialization.\n",
      "d:\\ML\\pinokio\\bin\\miniconda\\envs\\MLLM\\lib\\site-packages\\pytorch_lightning\\utilities\\data.py:106: Total length of `DataLoader` across ranks is zero. Please make sure this was your intention.\n",
      "Traceback (most recent call last):\n",
      "  File \"d:\\work\\ML\\jubilant-octo-couscous\\modular-context-lm\\train.py\", line 397, in <module>\n",
      "    train(args.config, args.model_type, args.resume)\n",
      "  File \"d:\\work\\ML\\jubilant-octo-couscous\\modular-context-lm\\train.py\", line 377, in train\n",
      "    trainer.fit(model, data_module, ckpt_path=resume_from_checkpoint)\n",
      "  File \"d:\\ML\\pinokio\\bin\\miniconda\\envs\\MLLM\\lib\\site-packages\\pytorch_lightning\\trainer\\trainer.py\", line 539, in fit\n",
      "    call._call_and_handle_interrupt(\n",
      "  File \"d:\\ML\\pinokio\\bin\\miniconda\\envs\\MLLM\\lib\\site-packages\\pytorch_lightning\\trainer\\call.py\", line 47, in _call_and_handle_interrupt\n",
      "    return trainer_fn(*args, **kwargs)\n",
      "  File \"d:\\ML\\pinokio\\bin\\miniconda\\envs\\MLLM\\lib\\site-packages\\pytorch_lightning\\trainer\\trainer.py\", line 575, in _fit_impl\n",
      "    self._run(model, ckpt_path=ckpt_path)\n",
      "  File \"d:\\ML\\pinokio\\bin\\miniconda\\envs\\MLLM\\lib\\site-packages\\pytorch_lightning\\trainer\\trainer.py\", line 982, in _run\n",
      "    results = self._run_stage()\n",
      "  File \"d:\\ML\\pinokio\\bin\\miniconda\\envs\\MLLM\\lib\\site-packages\\pytorch_lightning\\trainer\\trainer.py\", line 1026, in _run_stage\n",
      "    self.fit_loop.run()\n",
      "  File \"d:\\ML\\pinokio\\bin\\miniconda\\envs\\MLLM\\lib\\site-packages\\pytorch_lightning\\loops\\fit_loop.py\", line 208, in run\n",
      "    self.setup_data()\n",
      "  File \"d:\\ML\\pinokio\\bin\\miniconda\\envs\\MLLM\\lib\\site-packages\\pytorch_lightning\\loops\\fit_loop.py\", line 237, in setup_data\n",
      "    train_dataloader = _request_dataloader(source)\n",
      "  File \"d:\\ML\\pinokio\\bin\\miniconda\\envs\\MLLM\\lib\\site-packages\\pytorch_lightning\\trainer\\connectors\\data_connector.py\", line 326, in _request_dataloader\n",
      "    return data_source.dataloader()\n",
      "  File \"d:\\ML\\pinokio\\bin\\miniconda\\envs\\MLLM\\lib\\site-packages\\pytorch_lightning\\trainer\\connectors\\data_connector.py\", line 293, in dataloader\n",
      "    return call._call_lightning_datamodule_hook(self.instance.trainer, self.name)\n",
      "  File \"d:\\ML\\pinokio\\bin\\miniconda\\envs\\MLLM\\lib\\site-packages\\pytorch_lightning\\trainer\\call.py\", line 193, in _call_lightning_datamodule_hook\n",
      "    return fn(*args, **kwargs)\n",
      "  File \"d:\\work\\ML\\jubilant-octo-couscous\\modular-context-lm\\training\\data_module.py\", line 332, in train_dataloader\n",
      "    return DataLoader(\n",
      "  File \"d:\\ML\\pinokio\\bin\\miniconda\\envs\\MLLM\\lib\\site-packages\\lightning_fabric\\utilities\\data.py\", line 325, in wrapper\n",
      "    init(obj, *args, **kwargs)\n",
      "  File \"d:\\ML\\pinokio\\bin\\miniconda\\envs\\MLLM\\lib\\site-packages\\torch\\utils\\data\\dataloader.py\", line 376, in __init__\n",
      "    sampler = RandomSampler(dataset, generator=generator)  # type: ignore[arg-type]\n",
      "  File \"d:\\ML\\pinokio\\bin\\miniconda\\envs\\MLLM\\lib\\site-packages\\torch\\utils\\data\\sampler.py\", line 164, in __init__\n",
      "    raise ValueError(\n",
      "ValueError: num_samples should be a positive integer value, but got num_samples=0\n"
     ]
    },
    {
     "name": "stdout",
     "output_type": "stream",
     "text": [
      "\n",
      "\n",
      "Sanity Checking: |          | 0/? [00:00<?, ?it/s]\n",
      "                                                  \n"
     ]
    }
   ],
   "source": [
    "!python train.py --config config/default_config.yaml --model_type core"
   ]
  }
 ],
 "metadata": {
  "kernelspec": {
   "display_name": "MLLM",
   "language": "python",
   "name": "python3"
  },
  "language_info": {
   "codemirror_mode": {
    "name": "ipython",
    "version": 3
   },
   "file_extension": ".py",
   "mimetype": "text/x-python",
   "name": "python",
   "nbconvert_exporter": "python",
   "pygments_lexer": "ipython3",
   "version": "3.10.16"
  }
 },
 "nbformat": 4,
 "nbformat_minor": 2
}
